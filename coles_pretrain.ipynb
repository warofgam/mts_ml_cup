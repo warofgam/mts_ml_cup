{
 "cells": [
  {
   "cell_type": "code",
   "execution_count": 1,
   "id": "7af790b9-f4cc-40e0-a28a-7f11fc403b83",
   "metadata": {},
   "outputs": [],
   "source": [
    "import pandas as pd\n",
    "import pyarrow as pa\n",
    "import pyarrow.parquet as pq\n",
    "!export CUDA_VISIBLE_DEVICES=0"
   ]
  },
  {
   "cell_type": "markdown",
   "id": "5d9d6b6b-7a15-4158-8977-ed5c1ec5a3da",
   "metadata": {},
   "source": [
    "### Pretrain datasets"
   ]
  },
  {
   "cell_type": "code",
   "execution_count": 2,
   "id": "9604e3d9-1c92-4c3b-b799-698a1e7cb026",
   "metadata": {},
   "outputs": [
    {
     "name": "stderr",
     "output_type": "stream",
     "text": [
      "\n",
      "libgomp: Invalid value for environment variable OMP_NUM_THREADS\n",
      "100%|██████████| 4/4 [00:11<00:00,  2.85s/it]"
     ]
    },
    {
     "name": "stdout",
     "output_type": "stream",
     "text": [
      "CPU times: user 22.4 s, sys: 14.1 s, total: 36.5 s\n",
      "Wall time: 35.9 s\n"
     ]
    },
    {
     "name": "stderr",
     "output_type": "stream",
     "text": [
      "\n"
     ]
    }
   ],
   "source": [
    "%%time\n",
    "\n",
    "import tqdm, torch\n",
    "\n",
    "df_trans = pq.read_table('data/trans_filtered_pretrained.parquet').to_pandas()\n",
    "\n",
    "cols = ['url_host', 'request_cnt', 'part_of_day', 'event_time']\n",
    "\n",
    "for col in tqdm.tqdm(cols):\n",
    "    df_trans[col] = df_trans[col].apply(torch.tensor)"
   ]
  },
  {
   "cell_type": "code",
   "execution_count": 3,
   "id": "bf986b2f-c7b8-408e-aff4-7a070e2e17f9",
   "metadata": {},
   "outputs": [],
   "source": [
    "df_trans = df_trans.drop('price', axis =1)"
   ]
  },
  {
   "cell_type": "code",
   "execution_count": 4,
   "id": "fbd7a8da-f0c8-4af6-be82-b891249003ba",
   "metadata": {},
   "outputs": [
    {
     "name": "stderr",
     "output_type": "stream",
     "text": [
      "\n",
      "libgomp: Invalid value for environment variable OMP_NUM_THREADS\n"
     ]
    }
   ],
   "source": [
    "from sklearn.model_selection import train_test_split\n",
    "\n",
    "df_train_trans, df_valid_trans = train_test_split(df_trans, test_size = 0.1, random_state = 42)\n",
    "df_train_trans = df_train_trans.to_dict(orient='records')\n",
    "df_valid_trans = df_valid_trans.to_dict(orient='records')"
   ]
  },
  {
   "cell_type": "code",
   "execution_count": 5,
   "id": "ad570e6d-45ed-41ad-ae64-4a1de5039d27",
   "metadata": {},
   "outputs": [],
   "source": [
    "!export OMP_NUM_THREADS=16"
   ]
  },
  {
   "cell_type": "code",
   "execution_count": 6,
   "id": "39b04931-64ba-4817-9cba-a124c5382ff7",
   "metadata": {},
   "outputs": [
    {
     "data": {
      "text/plain": [
       "(373785, 41532)"
      ]
     },
     "execution_count": 6,
     "metadata": {},
     "output_type": "execute_result"
    }
   ],
   "source": [
    "len(df_train_trans), len(df_valid_trans)"
   ]
  },
  {
   "cell_type": "markdown",
   "id": "946ae991-3288-4639-82a1-ffc57508c7c2",
   "metadata": {},
   "source": [
    "## Prepare embeddings"
   ]
  },
  {
   "cell_type": "code",
   "execution_count": 28,
   "id": "b7659fd9-b0fc-441f-9744-40d2b4688d0a",
   "metadata": {},
   "outputs": [],
   "source": [
    "import pandas as pd\n",
    "embedding_matrix = pd.read_pickle('artifacts/url_host_150.pickle').embeddings"
   ]
  },
  {
   "cell_type": "code",
   "execution_count": 29,
   "id": "17c8e27c-066f-4fa1-9b3a-e93fc9236c22",
   "metadata": {},
   "outputs": [],
   "source": [
    "url_embeddings = torch.nn.Embedding.from_pretrained(torch.Tensor(embedding_matrix), freeze=True)"
   ]
  },
  {
   "cell_type": "markdown",
   "id": "7f223e8d-dfde-4c4b-9c71-6cf3c744c0a9",
   "metadata": {},
   "source": [
    "## Train COLES"
   ]
  },
  {
   "cell_type": "markdown",
   "id": "82cc0f45-6d4c-4026-ab33-bb58d1c5a5c7",
   "metadata": {},
   "source": [
    "### Model definition"
   ]
  },
  {
   "cell_type": "code",
   "execution_count": 30,
   "id": "a491a9e2-62f6-41f8-9010-0cec157dbded",
   "metadata": {},
   "outputs": [],
   "source": [
    "import torch\n",
    "import pytorch_lightning as pl\n",
    "from functools import partial\n",
    "from ptls.nn import TrxEncoder, RnnSeqEncoder\n",
    "from ptls.frames.coles import CoLESModule\n",
    "import ptls\n",
    "\n",
    "trx_encoder_params = dict(\n",
    "    embeddings_noise=0.003,\n",
    "    numeric_values={'request_cnt': 'identity'\n",
    "    },\n",
    "    embeddings={\n",
    "        #'price': {'in': 10, 'out': 2},\n",
    "        #'region_name': {'in': 81, 'out': 4},\n",
    "        #'city_name': {'in': 985, 'out': 16},\n",
    "        #'cpe_manufacturer_name': {'in': 37, 'out': 4},\n",
    "        #'cpe_model_name': {'in': 599, 'out': 16},\n",
    "        #'cpe_type_cd': {'in': 4, 'out': 2}, \n",
    "        #'cpe_model_os_type': {'in': 3, 'out': 2}, \n",
    "        'part_of_day': {'in': 4, 'out': 1},\n",
    "        'url_host': url_embeddings\n",
    "    }\n",
    ")\n",
    "\n",
    "\n",
    "seq_encoder = RnnSeqEncoder(\n",
    "    trx_encoder=TrxEncoder(**trx_encoder_params),\n",
    "    hidden_size=1024,\n",
    "    num_layers=2,\n",
    "    type='gru',\n",
    ")\n",
    "\n",
    "model = CoLESModule(\n",
    "    seq_encoder=seq_encoder,\n",
    "    optimizer_partial=partial(torch.optim.Adam, lr=0.001),\n",
    "    lr_scheduler_partial=partial(torch.optim.lr_scheduler.StepLR, step_size=10, gamma=0.9),\n",
    "    head = torch.nn.Sequential(torch.nn.Linear(1024, 512), torch.nn.ReLU(), torch.nn.Linear(512, 512), \n",
    "            ptls.nn.Head(use_norm_encoder = True))\n",
    ")"
   ]
  },
  {
   "cell_type": "markdown",
   "id": "b5c351fd-524a-4c32-a394-a679734d92dc",
   "metadata": {},
   "source": [
    "### Dataloader"
   ]
  },
  {
   "cell_type": "code",
   "execution_count": 10,
   "id": "3f1ea07f-9532-4c85-b961-377ad1ee16fe",
   "metadata": {},
   "outputs": [],
   "source": [
    "from ptls.data_load.datasets import MemoryMapDataset\n",
    "from ptls.data_load.iterable_processing.feature_filter import FeatureFilter\n",
    "from ptls.frames.coles import ColesDataset\n",
    "from ptls.frames.coles.split_strategy import SampleSlices\n",
    "from ptls.frames import PtlsDataModule\n",
    "\n",
    "\n",
    "train_ds = MemoryMapDataset(data=df_train_trans)\n",
    "valid_ds = MemoryMapDataset(data=df_valid_trans)\n",
    "\n",
    "train_data=ColesDataset(train_ds, splitter = SampleSlices(split_count=5, cnt_min=20, cnt_max=200))\n",
    "valid_data=ColesDataset(valid_ds, splitter = SampleSlices(split_count=5, cnt_min=20, cnt_max=200))\n",
    "\n",
    "dl = PtlsDataModule(\n",
    "    train_data=train_data, train_num_workers=16, train_batch_size=256, \n",
    "    valid_data=valid_data, valid_num_workers=16, valid_batch_size=256\n",
    ")"
   ]
  },
  {
   "cell_type": "markdown",
   "id": "faaf7ed2-9782-4439-8a86-32808d4fff8d",
   "metadata": {},
   "source": [
    "### Trainer"
   ]
  },
  {
   "cell_type": "code",
   "execution_count": 11,
   "id": "0c2b3322-7818-44a6-adf8-a9322a315b68",
   "metadata": {},
   "outputs": [
    {
     "name": "stderr",
     "output_type": "stream",
     "text": [
      "GPU available: True, used: True\n",
      "TPU available: False, using: 0 TPU cores\n",
      "IPU available: False, using: 0 IPUs\n",
      "HPU available: False, using: 0 HPUs\n"
     ]
    }
   ],
   "source": [
    "import torch\n",
    "import pytorch_lightning as pl\n",
    "\n",
    "import logging\n",
    "\n",
    "trainer = pl.Trainer(\n",
    "    max_epochs=50,\n",
    "    limit_val_batches=100,\n",
    "    gpus=[0],\n",
    "    enable_progress_bar=False,\n",
    ")"
   ]
  },
  {
   "cell_type": "code",
   "execution_count": null,
   "id": "70e8672a-97cd-4cb9-9ad4-ad3d1e88d69f",
   "metadata": {
    "tags": []
   },
   "outputs": [
    {
     "name": "stdout",
     "output_type": "stream",
     "text": [
      "logger.version = 11\n"
     ]
    },
    {
     "name": "stderr",
     "output_type": "stream",
     "text": [
      "LOCAL_RANK: 0 - CUDA_VISIBLE_DEVICES: [0,1]\n",
      "\n",
      "  | Name               | Type            | Params\n",
      "-------------------------------------------------------\n",
      "0 | _loss              | ContrastiveLoss | 0     \n",
      "1 | _seq_encoder       | RnnSeqEncoder   | 39.9 M\n",
      "2 | _validation_metric | BatchRecallTopK | 0     \n",
      "3 | _head              | Sequential      | 787 K \n",
      "-------------------------------------------------------\n",
      "10.7 M    Trainable params\n",
      "30.0 M    Non-trainable params\n",
      "40.7 M    Total params\n",
      "162.634   Total estimated model params size (MB)\n"
     ]
    }
   ],
   "source": [
    "print(f'logger.version = {trainer.logger.version}')\n",
    "trainer.fit(model, dl)\n",
    "print(trainer.logged_metrics)"
   ]
  },
  {
   "cell_type": "code",
   "execution_count": null,
   "id": "64b7e9fd-84df-4f10-9a0e-8c08dc8ca610",
   "metadata": {},
   "outputs": [],
   "source": [
    "torch.save(model.state_dict(), \"coles-pretrained_150.pt\")"
   ]
  },
  {
   "cell_type": "markdown",
   "id": "8ea85365-d6fa-4c81-8ab3-5f4cf98b9438",
   "metadata": {},
   "source": [
    "# Inference"
   ]
  },
  {
   "cell_type": "code",
   "execution_count": 31,
   "id": "81c0849f-92b6-4a6e-9b22-656cf8344397",
   "metadata": {},
   "outputs": [
    {
     "data": {
      "text/plain": [
       "<All keys matched successfully>"
      ]
     },
     "execution_count": 31,
     "metadata": {},
     "output_type": "execute_result"
    }
   ],
   "source": [
    "model.load_state_dict(torch.load(\"coles-pretrained_150.pt\"))"
   ]
  },
  {
   "cell_type": "code",
   "execution_count": 32,
   "id": "357a9c4e-778f-4a1d-a5ce-4f7fe3b97045",
   "metadata": {},
   "outputs": [
    {
     "name": "stderr",
     "output_type": "stream",
     "text": [
      "100%|██████████| 4/4 [00:12<00:00,  3.19s/it]"
     ]
    },
    {
     "name": "stdout",
     "output_type": "stream",
     "text": [
      "CPU times: user 24.7 s, sys: 14 s, total: 38.7 s\n",
      "Wall time: 37.5 s\n"
     ]
    },
    {
     "name": "stderr",
     "output_type": "stream",
     "text": [
      "\n"
     ]
    }
   ],
   "source": [
    "%%time\n",
    "\n",
    "import tqdm, torch\n",
    "\n",
    "df_trans = pq.read_table('data/trans_filtered_pretrained.parquet').to_pandas()\n",
    "\n",
    "cols = ['url_host', 'request_cnt', 'part_of_day', 'event_time']\n",
    "\n",
    "for col in tqdm.tqdm(cols):\n",
    "    df_trans[col] = df_trans[col].apply(torch.tensor)"
   ]
  },
  {
   "cell_type": "code",
   "execution_count": 41,
   "id": "525553f1-6983-45c3-b6cd-9d9a50ab6c04",
   "metadata": {},
   "outputs": [
    {
     "name": "stderr",
     "output_type": "stream",
     "text": [
      "12979it [28:28,  7.60it/s]\n",
      "12979it [06:47, 31.89it/s]\n"
     ]
    },
    {
     "name": "stdout",
     "output_type": "stream",
     "text": [
      "CPU times: user 6h 47min 27s, sys: 2min 22s, total: 6h 49min 49s\n",
      "Wall time: 35min 25s\n"
     ]
    }
   ],
   "source": [
    "%%time\n",
    "import tqdm\n",
    "from ptls.data_load.datasets import inference_data_loader\n",
    "import numpy as np\n",
    "\n",
    "def pooling_inference(model, dl, device='cuda:0'):\n",
    "    \n",
    "    model.to(device)\n",
    "    X = []\n",
    "    for batch in tqdm.tqdm(dl):\n",
    "        with torch.no_grad():\n",
    "            x = model.seq_encoder.trx_encoder(batch.to(device)).payload\n",
    "            out_max = torch.max(x, dim=1)[0]\n",
    "            out_min = torch.min(x, dim=1)[0]\n",
    "            out_mean = torch.mean(x, dim=1)\n",
    "            out_std = torch.std(x, dim=1)\n",
    "            features = torch.cat([out_max, out_min, out_mean, out_std], dim=1)      \n",
    "            X += [features]\n",
    "    return X\n",
    "\n",
    "def embed_inference(model, dl, device='cuda:0'):\n",
    "    \n",
    "    model.to(device)\n",
    "    X = []\n",
    "    for batch in tqdm.tqdm(dl):\n",
    "        with torch.no_grad():\n",
    "            features = model.seq_encoder(batch.to(device))\n",
    "            X += [features]\n",
    "    return X\n",
    "\n",
    "dl = inference_data_loader(df_trans.to_dict(orient='records'), num_workers=0, batch_size=32)\n",
    "X_coles = torch.vstack(embed_inference(model, dl, )).cpu().numpy()\n",
    "X_pool = torch.vstack(pooling_inference(model, dl, )).cpu().numpy()\n",
    "X_embeds = np.concatenate([X_coles, X_pool], axis=1)\n",
    "\n",
    "\n",
    "df_embeds = pd.DataFrame(X_embeds, columns=[f\"embed_{e}\" for e in range(X_embeds.shape[1])])\n",
    "df_embeds['user_id'] = df_trans['user_id']"
   ]
  },
  {
   "cell_type": "code",
   "execution_count": 42,
   "id": "0960188a-ae71-46d2-8b04-160c9f786d86",
   "metadata": {},
   "outputs": [],
   "source": [
    "#df_embeds.to_csv('./data/coles_lstm.csv', index=False)"
   ]
  },
  {
   "cell_type": "markdown",
   "id": "b34f2f38-af86-417a-904f-4c235e6fa30b",
   "metadata": {},
   "source": [
    "## Downstream"
   ]
  },
  {
   "cell_type": "code",
   "execution_count": 43,
   "id": "249e125e-b4f2-458a-8a83-5a897b667e5f",
   "metadata": {},
   "outputs": [
    {
     "name": "stdout",
     "output_type": "stream",
     "text": [
      "CPU times: user 2.81 s, sys: 567 ms, total: 3.38 s\n",
      "Wall time: 3.37 s\n"
     ]
    }
   ],
   "source": [
    "%%time\n",
    "\n",
    "import bisect\n",
    "import numpy as np\n",
    "\n",
    "# df_embeds = pd.read_csv('./data/coles_lstm.csv')\n",
    "df_public = pq.read_table('data/public_train.pqt').to_pandas().sort_values(by='user_id')\n",
    "\n",
    "def age_bucket(x):\n",
    "    return bisect.bisect_left([18,25,35,45,55,65], x)\n",
    "\n",
    "y_age = df_public['age']\n",
    "y_age = np.array(list(map(age_bucket, y_age)))\n",
    "y_gender = np.array(df_public['is_male'])\n",
    "\n",
    "X = df_public\n",
    "X = X.merge(df_embeds, on=\"user_id\", how='inner')\n",
    "del X['user_id'], X['age'], X['is_male']"
   ]
  },
  {
   "cell_type": "markdown",
   "id": "e1256856-3585-4b1d-ab90-68d7f2e74847",
   "metadata": {},
   "source": [
    "## Gender"
   ]
  },
  {
   "cell_type": "code",
   "execution_count": null,
   "id": "f91510b6-e068-4b06-a703-ece8a251280e",
   "metadata": {
    "tags": []
   },
   "outputs": [
    {
     "name": "stdout",
     "output_type": "stream",
     "text": [
      "Learning rate set to 0.122426\n",
      "0:\tlearn: 0.6501417\ttest: 0.6502901\tbest: 0.6502901 (0)\ttotal: 1.19s\tremaining: 19m 48s\n",
      "100:\tlearn: 0.4608559\ttest: 0.4659078\tbest: 0.4659078 (100)\ttotal: 2m\tremaining: 17m 53s\n",
      "200:\tlearn: 0.4462947\ttest: 0.4581556\tbest: 0.4581556 (200)\ttotal: 3m 59s\tremaining: 15m 53s\n",
      "300:\tlearn: 0.4358284\ttest: 0.4558160\tbest: 0.4558160 (300)\ttotal: 5m 51s\tremaining: 13m 37s\n",
      "400:\tlearn: 0.4262897\ttest: 0.4541866\tbest: 0.4541866 (400)\ttotal: 7m 47s\tremaining: 11m 38s\n"
     ]
    }
   ],
   "source": [
    "# %%time\n",
    "from catboost import CatBoostClassifier, metrics\n",
    "from sklearn.model_selection import train_test_split\n",
    "from sklearn.metrics import roc_auc_score\n",
    "not_na_gender = (y_gender != 'NA') & (y_gender != None)\n",
    "x_train, x_test_gender, y_train, y_test_gender = train_test_split(X[not_na_gender], y_gender[not_na_gender], test_size = 0.1, random_state = 42)\n",
    "\n",
    "clf_gender = CatBoostClassifier(\n",
    "    iterations=1000,\n",
    "    custom_metric=[metrics.AUC()],\n",
    "    use_best_model=True,\n",
    "    random_seed=42)\n",
    "clf_gender.fit(x_train, y_train, metric_period=100, eval_set=(x_test_gender, y_test_gender))"
   ]
  },
  {
   "cell_type": "code",
   "execution_count": null,
   "id": "0f8430f2-d9c2-4cf2-8921-56871b596797",
   "metadata": {},
   "outputs": [],
   "source": [
    "roc_auc_score(y_test_gender, clf_gender.predict_proba(x_test_gender)[:,1])"
   ]
  },
  {
   "cell_type": "code",
   "execution_count": null,
   "id": "36e9073f-a2e5-4380-b3b6-7afbb95503e7",
   "metadata": {},
   "outputs": [],
   "source": [
    "print(f'GINI по полу {2 * roc_auc_score(y_test_gender, clf_gender.predict_proba(x_test_gender)[:,1]) - 1:2.3f}')"
   ]
  },
  {
   "cell_type": "markdown",
   "id": "b6f90007-39ca-413f-bb25-4fb6c4567417",
   "metadata": {},
   "source": [
    "# Age"
   ]
  },
  {
   "cell_type": "code",
   "execution_count": null,
   "id": "37c4697a-1ad9-4b11-904a-5d2cae5c0945",
   "metadata": {},
   "outputs": [],
   "source": [
    "%%time\n",
    "\n",
    "from sklearn.metrics import classification_report\n",
    "\n",
    "not_na_age = ~np.isnan(y_age)\n",
    "x_train, x_test_age, y_train, y_test_age = train_test_split(X[not_na_age], y_age[not_na_age], test_size = 0.1, random_state = 42)\n",
    "\n",
    "clf_age = CatBoostClassifier(iterations=1000,\n",
    "    custom_metric=[metrics.Accuracy()],\n",
    "    use_best_model=True,\n",
    "    random_seed=42)\n",
    "clf_age.fit(x_train, y_train, metric_period=100, eval_set=(x_test_age, y_test_age))"
   ]
  },
  {
   "cell_type": "code",
   "execution_count": null,
   "id": "d63be1d4-15a0-4c0a-9c5a-5d836a7a24ee",
   "metadata": {},
   "outputs": [],
   "source": [
    "print(classification_report(y_test_age, clf_age.predict(x_test_age), \\\n",
    "                            target_names = ['<18', '18-25','25-34', '35-44', '45-54', '55-65', '65+']))"
   ]
  },
  {
   "cell_type": "code",
   "execution_count": null,
   "id": "83148af4-776b-4bad-8195-cbc282d2a501",
   "metadata": {},
   "outputs": [],
   "source": [
    "0.765 + 2*0.46"
   ]
  },
  {
   "cell_type": "code",
   "execution_count": null,
   "id": "c4b316c2-b8b5-4a83-884c-a25f28f07002",
   "metadata": {},
   "outputs": [],
   "source": []
  }
 ],
 "metadata": {
  "kernelspec": {
   "display_name": "ptls-experiments",
   "language": "python",
   "name": "ptls-experiments"
  },
  "language_info": {
   "codemirror_mode": {
    "name": "ipython",
    "version": 3
   },
   "file_extension": ".py",
   "mimetype": "text/x-python",
   "name": "python",
   "nbconvert_exporter": "python",
   "pygments_lexer": "ipython3",
   "version": "3.8.17"
  }
 },
 "nbformat": 4,
 "nbformat_minor": 5
}
