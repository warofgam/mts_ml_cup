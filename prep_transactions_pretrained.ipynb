{
 "cells": [
  {
   "cell_type": "code",
   "execution_count": 1,
   "id": "7af790b9-f4cc-40e0-a28a-7f11fc403b83",
   "metadata": {},
   "outputs": [],
   "source": [
    "import pandas as pd\n",
    "import pyarrow as pa\n",
    "import pyarrow.parquet as pq"
   ]
  },
  {
   "cell_type": "code",
   "execution_count": 2,
   "id": "bb2ce48f-c4b0-4cf9-957e-42cca422c470",
   "metadata": {},
   "outputs": [
    {
     "data": {
      "text/plain": [
       "4"
      ]
     },
     "execution_count": 2,
     "metadata": {},
     "output_type": "execute_result"
    }
   ],
   "source": [
    "import numpy as np\n",
    "pd.Series([1,2,3,3,4]).nunique()"
   ]
  },
  {
   "cell_type": "markdown",
   "id": "761dcb24-aacd-44ce-9f4c-7f5b9f4dee6c",
   "metadata": {},
   "source": [
    "# Prepare data"
   ]
  },
  {
   "cell_type": "code",
   "execution_count": 3,
   "id": "3c3f885e-c636-4b72-bcb8-26004390cf0d",
   "metadata": {},
   "outputs": [
    {
     "name": "stdout",
     "output_type": "stream",
     "text": [
      "CPU times: user 1min 14s, sys: 8min 25s, total: 9min 40s\n",
      "Wall time: 52.6 s\n"
     ]
    }
   ],
   "source": [
    "%%time\n",
    "df = pq.read_table('data/competition_data_final_pqt').select(['user_id', 'url_host', 'request_cnt', 'part_of_day', 'date', 'price']).to_pandas()"
   ]
  },
  {
   "cell_type": "code",
   "execution_count": 4,
   "id": "958bc4c2-4c22-4d78-8ec2-5c9c6ed26c48",
   "metadata": {},
   "outputs": [
    {
     "data": {
      "text/plain": [
       "(322899435, 6)"
      ]
     },
     "execution_count": 4,
     "metadata": {},
     "output_type": "execute_result"
    }
   ],
   "source": [
    "df.shape"
   ]
  },
  {
   "cell_type": "code",
   "execution_count": 5,
   "id": "87f714f5-37a9-4d8a-8ad3-ddb49acc49d5",
   "metadata": {},
   "outputs": [
    {
     "data": {
      "text/plain": [
       "['user_id', 'url_host', 'request_cnt', 'part_of_day', 'date', 'price']"
      ]
     },
     "execution_count": 5,
     "metadata": {},
     "output_type": "execute_result"
    }
   ],
   "source": [
    "list(df.columns)"
   ]
  },
  {
   "cell_type": "code",
   "execution_count": 6,
   "id": "f4d854af-278f-4f52-8b51-304045c986a8",
   "metadata": {},
   "outputs": [
    {
     "name": "stdout",
     "output_type": "stream",
     "text": [
      "Unique values in column.\n",
      "url_host : 199683\n",
      "request_cnt : 15\n",
      "part_of_day : 4\n",
      "date : 396\n",
      "price : 29323\n"
     ]
    }
   ],
   "source": [
    "import tqdm\n",
    "\n",
    "print(\"Unique values in column.\")\n",
    "for c in df.columns:\n",
    "    if c != 'user_id':\n",
    "        print(c, \":\", len(df[c].unique()))"
   ]
  },
  {
   "cell_type": "code",
   "execution_count": 7,
   "id": "aa818d1a-6670-4004-a227-cac8084d2b5d",
   "metadata": {},
   "outputs": [
    {
     "data": {
      "text/plain": [
       "day        107328399\n",
       "evening     96239286\n",
       "morning     85236015\n",
       "night       34095735\n",
       "Name: part_of_day, dtype: int64"
      ]
     },
     "execution_count": 7,
     "metadata": {},
     "output_type": "execute_result"
    }
   ],
   "source": [
    "df.part_of_day.value_counts()"
   ]
  },
  {
   "cell_type": "markdown",
   "id": "2bfb475e-bbc3-4c2a-956c-9f0a975aa803",
   "metadata": {},
   "source": [
    "### Impute price, create date+day_part event_time"
   ]
  },
  {
   "cell_type": "code",
   "execution_count": 8,
   "id": "4ffbeffa-ed25-402f-a68e-f5837067ab24",
   "metadata": {},
   "outputs": [],
   "source": [
    "df.price = df.price.fillna(0)\n",
    "df.price = pd.qcut(df.price, 10, labels=False)"
   ]
  },
  {
   "cell_type": "code",
   "execution_count": 9,
   "id": "ab0b01bc-5eaf-4089-9c60-b1012d892ab1",
   "metadata": {},
   "outputs": [],
   "source": [
    "df['event_time'] = pd.to_datetime(df[\"date\"]).values.astype('datetime64[h]').view('int64')"
   ]
  },
  {
   "cell_type": "code",
   "execution_count": 10,
   "id": "5a79b418-162d-4c76-83a7-e143eba52e46",
   "metadata": {},
   "outputs": [],
   "source": [
    "df['event_time'] += df['part_of_day'].map({'morning': 0, 'day': 6, 'evening': 12, 'night': 18})"
   ]
  },
  {
   "cell_type": "code",
   "execution_count": 11,
   "id": "c873bfd1-9a87-497f-beb7-c811a3e053d7",
   "metadata": {},
   "outputs": [
    {
     "data": {
      "text/html": [
       "<div>\n",
       "<style scoped>\n",
       "    .dataframe tbody tr th:only-of-type {\n",
       "        vertical-align: middle;\n",
       "    }\n",
       "\n",
       "    .dataframe tbody tr th {\n",
       "        vertical-align: top;\n",
       "    }\n",
       "\n",
       "    .dataframe thead th {\n",
       "        text-align: right;\n",
       "    }\n",
       "</style>\n",
       "<table border=\"1\" class=\"dataframe\">\n",
       "  <thead>\n",
       "    <tr style=\"text-align: right;\">\n",
       "      <th></th>\n",
       "      <th>user_id</th>\n",
       "      <th>url_host</th>\n",
       "      <th>request_cnt</th>\n",
       "      <th>part_of_day</th>\n",
       "      <th>date</th>\n",
       "      <th>price</th>\n",
       "      <th>event_time</th>\n",
       "    </tr>\n",
       "  </thead>\n",
       "  <tbody>\n",
       "    <tr>\n",
       "      <th>0</th>\n",
       "      <td>45098</td>\n",
       "      <td>ad.adriver.ru</td>\n",
       "      <td>1</td>\n",
       "      <td>morning</td>\n",
       "      <td>2022-06-15</td>\n",
       "      <td>4</td>\n",
       "      <td>459792</td>\n",
       "    </tr>\n",
       "    <tr>\n",
       "      <th>1</th>\n",
       "      <td>45098</td>\n",
       "      <td>apple.com</td>\n",
       "      <td>1</td>\n",
       "      <td>morning</td>\n",
       "      <td>2022-06-19</td>\n",
       "      <td>4</td>\n",
       "      <td>459888</td>\n",
       "    </tr>\n",
       "    <tr>\n",
       "      <th>2</th>\n",
       "      <td>45098</td>\n",
       "      <td>avatars.mds.yandex.net</td>\n",
       "      <td>1</td>\n",
       "      <td>day</td>\n",
       "      <td>2022-06-12</td>\n",
       "      <td>4</td>\n",
       "      <td>459726</td>\n",
       "    </tr>\n",
       "    <tr>\n",
       "      <th>3</th>\n",
       "      <td>45098</td>\n",
       "      <td>googleads.g.doubleclick.net</td>\n",
       "      <td>1</td>\n",
       "      <td>day</td>\n",
       "      <td>2022-05-16</td>\n",
       "      <td>4</td>\n",
       "      <td>459078</td>\n",
       "    </tr>\n",
       "    <tr>\n",
       "      <th>4</th>\n",
       "      <td>45098</td>\n",
       "      <td>googleads.g.doubleclick.net</td>\n",
       "      <td>1</td>\n",
       "      <td>day</td>\n",
       "      <td>2022-05-30</td>\n",
       "      <td>4</td>\n",
       "      <td>459414</td>\n",
       "    </tr>\n",
       "  </tbody>\n",
       "</table>\n",
       "</div>"
      ],
      "text/plain": [
       "   user_id                     url_host  request_cnt part_of_day        date  \\\n",
       "0    45098                ad.adriver.ru            1     morning  2022-06-15   \n",
       "1    45098                    apple.com            1     morning  2022-06-19   \n",
       "2    45098       avatars.mds.yandex.net            1         day  2022-06-12   \n",
       "3    45098  googleads.g.doubleclick.net            1         day  2022-05-16   \n",
       "4    45098  googleads.g.doubleclick.net            1         day  2022-05-30   \n",
       "\n",
       "   price  event_time  \n",
       "0      4      459792  \n",
       "1      4      459888  \n",
       "2      4      459726  \n",
       "3      4      459078  \n",
       "4      4      459414  "
      ]
     },
     "execution_count": 11,
     "metadata": {},
     "output_type": "execute_result"
    }
   ],
   "source": [
    "df.head()"
   ]
  },
  {
   "cell_type": "code",
   "execution_count": 12,
   "id": "e64b3eb1-dd91-49ec-8c20-a19950c6be83",
   "metadata": {},
   "outputs": [],
   "source": [
    "del df['date']"
   ]
  },
  {
   "cell_type": "markdown",
   "id": "f8e4b371-15ee-4a28-bc5c-f86a0d8cf9da",
   "metadata": {},
   "source": [
    "# Create transactional data"
   ]
  },
  {
   "cell_type": "code",
   "execution_count": 13,
   "id": "1c1a98f3-656a-467c-a4e9-256861bd8d60",
   "metadata": {},
   "outputs": [
    {
     "data": {
      "text/html": [
       "<div>\n",
       "<style scoped>\n",
       "    .dataframe tbody tr th:only-of-type {\n",
       "        vertical-align: middle;\n",
       "    }\n",
       "\n",
       "    .dataframe tbody tr th {\n",
       "        vertical-align: top;\n",
       "    }\n",
       "\n",
       "    .dataframe thead th {\n",
       "        text-align: right;\n",
       "    }\n",
       "</style>\n",
       "<table border=\"1\" class=\"dataframe\">\n",
       "  <thead>\n",
       "    <tr style=\"text-align: right;\">\n",
       "      <th></th>\n",
       "      <th>user_id</th>\n",
       "      <th>url_host</th>\n",
       "      <th>request_cnt</th>\n",
       "      <th>part_of_day</th>\n",
       "      <th>price</th>\n",
       "      <th>event_time</th>\n",
       "    </tr>\n",
       "  </thead>\n",
       "  <tbody>\n",
       "    <tr>\n",
       "      <th>0</th>\n",
       "      <td>45098</td>\n",
       "      <td>ad.adriver.ru</td>\n",
       "      <td>1</td>\n",
       "      <td>morning</td>\n",
       "      <td>4</td>\n",
       "      <td>459792</td>\n",
       "    </tr>\n",
       "    <tr>\n",
       "      <th>1</th>\n",
       "      <td>45098</td>\n",
       "      <td>apple.com</td>\n",
       "      <td>1</td>\n",
       "      <td>morning</td>\n",
       "      <td>4</td>\n",
       "      <td>459888</td>\n",
       "    </tr>\n",
       "    <tr>\n",
       "      <th>2</th>\n",
       "      <td>45098</td>\n",
       "      <td>avatars.mds.yandex.net</td>\n",
       "      <td>1</td>\n",
       "      <td>day</td>\n",
       "      <td>4</td>\n",
       "      <td>459726</td>\n",
       "    </tr>\n",
       "    <tr>\n",
       "      <th>3</th>\n",
       "      <td>45098</td>\n",
       "      <td>googleads.g.doubleclick.net</td>\n",
       "      <td>1</td>\n",
       "      <td>day</td>\n",
       "      <td>4</td>\n",
       "      <td>459078</td>\n",
       "    </tr>\n",
       "    <tr>\n",
       "      <th>4</th>\n",
       "      <td>45098</td>\n",
       "      <td>googleads.g.doubleclick.net</td>\n",
       "      <td>1</td>\n",
       "      <td>day</td>\n",
       "      <td>4</td>\n",
       "      <td>459414</td>\n",
       "    </tr>\n",
       "  </tbody>\n",
       "</table>\n",
       "</div>"
      ],
      "text/plain": [
       "   user_id                     url_host  request_cnt part_of_day  price  \\\n",
       "0    45098                ad.adriver.ru            1     morning      4   \n",
       "1    45098                    apple.com            1     morning      4   \n",
       "2    45098       avatars.mds.yandex.net            1         day      4   \n",
       "3    45098  googleads.g.doubleclick.net            1         day      4   \n",
       "4    45098  googleads.g.doubleclick.net            1         day      4   \n",
       "\n",
       "   event_time  \n",
       "0      459792  \n",
       "1      459888  \n",
       "2      459726  \n",
       "3      459078  \n",
       "4      459414  "
      ]
     },
     "execution_count": 13,
     "metadata": {},
     "output_type": "execute_result"
    }
   ],
   "source": [
    "df.head()"
   ]
  },
  {
   "cell_type": "code",
   "execution_count": 14,
   "id": "95217ff3-d710-411e-b58a-27173e79d135",
   "metadata": {},
   "outputs": [],
   "source": [
    "import pyarrow.parquet as pq\n",
    "pretrained_embedder = pd.read_pickle('artifacts/url_host_96.pickle')"
   ]
  },
  {
   "cell_type": "code",
   "execution_count": 15,
   "id": "4990cb8f-ef92-4b28-a4b1-761e03001751",
   "metadata": {},
   "outputs": [],
   "source": [
    "pretrained_dict = pretrained_embedder.item_to_id"
   ]
  },
  {
   "cell_type": "code",
   "execution_count": 18,
   "id": "2c390b2d-ec9d-45e1-9e1c-96e0ddbb84c0",
   "metadata": {},
   "outputs": [
    {
     "name": "stderr",
     "output_type": "stream",
     "text": [
      "\n",
      "libgomp: Invalid value for environment variable OMP_NUM_THREADS\n",
      "\n",
      "libgomp: Invalid value for environment variable OMP_NUM_THREADS\n"
     ]
    }
   ],
   "source": [
    "from ptls.preprocessing import PandasDataPreprocessor\n",
    "\n",
    "preprocessor = PandasDataPreprocessor(\n",
    "    col_id='user_id',\n",
    "    col_event_time='event_time',\n",
    "    event_time_transformation='none',\n",
    "    cols_category=['part_of_day'],\n",
    "    cols_pretrained= {'url_host': pretrained_dict},\n",
    "    #cols_category=['price', 'region_name', 'city_name', 'cpe_manufacturer_name', 'cpe_model_name', 'url_host', 'cpe_type_cd', 'cpe_model_os_type', 'part_of_day'],\n",
    "    cols_numerical=['request_cnt'],\n",
    "    return_records=False,\n",
    ")"
   ]
  },
  {
   "cell_type": "code",
   "execution_count": 19,
   "id": "8abf9b6a-cf57-4a68-b57c-9fb47bdbf543",
   "metadata": {},
   "outputs": [
    {
     "name": "stdout",
     "output_type": "stream",
     "text": [
      "CPU times: user 4min 27s, sys: 56.1 s, total: 5min 23s\n",
      "Wall time: 5min 23s\n"
     ]
    }
   ],
   "source": [
    "%%time\n",
    "import pickle\n",
    "\n",
    "trans = preprocessor.fit_transform(df)\n",
    "\n",
    "with open('preprocessor_pretrained.p', 'wb') as f:\n",
    "    pickle.dump(preprocessor, f)"
   ]
  },
  {
   "cell_type": "code",
   "execution_count": 20,
   "id": "98ee2e04-d5a0-40b0-ac05-f59b001298e7",
   "metadata": {},
   "outputs": [
    {
     "name": "stderr",
     "output_type": "stream",
     "text": [
      "100%|██████████| 5/5 [00:08<00:00,  1.64s/it]\n"
     ]
    },
    {
     "name": "stdout",
     "output_type": "stream",
     "text": [
      "CPU times: user 26.7 s, sys: 8.76 s, total: 35.4 s\n",
      "Wall time: 35.1 s\n"
     ]
    }
   ],
   "source": [
    "%%time\n",
    "\n",
    "import pickle\n",
    "import numpy as np\n",
    "\n",
    "\n",
    "cols = ['url_host', 'request_cnt', 'part_of_day', 'event_time', 'price']\n",
    "\n",
    "trans_save = trans\n",
    "for col in tqdm.tqdm(cols):\n",
    "    trans_save[col] = trans_save[col].apply(np.array)\n",
    "trans_save\n",
    "trans_save.to_parquet('./data/trans_filtered_pretrained.parquet')"
   ]
  },
  {
   "cell_type": "code",
   "execution_count": null,
   "id": "58ab11c8-1aff-4b77-87d4-4d981056411c",
   "metadata": {},
   "outputs": [],
   "source": []
  }
 ],
 "metadata": {
  "kernelspec": {
   "display_name": "ptls-experiments",
   "language": "python",
   "name": "ptls-experiments"
  },
  "language_info": {
   "codemirror_mode": {
    "name": "ipython",
    "version": 3
   },
   "file_extension": ".py",
   "mimetype": "text/x-python",
   "name": "python",
   "nbconvert_exporter": "python",
   "pygments_lexer": "ipython3",
   "version": "3.8.17"
  }
 },
 "nbformat": 4,
 "nbformat_minor": 5
}
