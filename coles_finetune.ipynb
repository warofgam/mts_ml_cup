{
 "cells": [
  {
   "cell_type": "code",
   "execution_count": 1,
   "id": "7af790b9-f4cc-40e0-a28a-7f11fc403b83",
   "metadata": {},
   "outputs": [
    {
     "name": "stderr",
     "output_type": "stream",
     "text": [
      "\n",
      "libgomp: Invalid value for environment variable OMP_NUM_THREADS\n"
     ]
    }
   ],
   "source": [
    "import pandas as pd\n",
    "import pyarrow as pa\n",
    "import pyarrow.parquet as pq\n",
    "import torch"
   ]
  },
  {
   "cell_type": "code",
   "execution_count": 2,
   "id": "fb17267f-234b-43a9-91a5-37a827ec1a5c",
   "metadata": {},
   "outputs": [],
   "source": [
    "import pandas as pd\n",
    "embedding_matrix = pd.read_pickle('artifacts/url_host_96.pickle').embeddings\n",
    "url_embeddings = torch.nn.Embedding.from_pretrained(torch.Tensor(embedding_matrix), freeze=True)"
   ]
  },
  {
   "cell_type": "markdown",
   "id": "7f223e8d-dfde-4c4b-9c71-6cf3c744c0a9",
   "metadata": {},
   "source": [
    "## Train COLES"
   ]
  },
  {
   "cell_type": "markdown",
   "id": "82cc0f45-6d4c-4026-ab33-bb58d1c5a5c7",
   "metadata": {},
   "source": [
    "### Model definition"
   ]
  },
  {
   "cell_type": "code",
   "execution_count": 38,
   "id": "a491a9e2-62f6-41f8-9010-0cec157dbded",
   "metadata": {},
   "outputs": [],
   "source": [
    "import torch\n",
    "import pytorch_lightning as pl\n",
    "from functools import partial\n",
    "from ptls.nn import TrxEncoder, RnnSeqEncoder\n",
    "from ptls.frames.coles import CoLESModule\n",
    "import ptls\n",
    "\n",
    "trx_encoder_params = dict(\n",
    "    embeddings_noise=0.003,\n",
    "    numeric_values={'request_cnt': 'identity'\n",
    "    },\n",
    "    embeddings={\n",
    "        #'price': {'in': 10, 'out': 2},\n",
    "        #'region_name': {'in': 81, 'out': 4},\n",
    "        #'city_name': {'in': 985, 'out': 16},\n",
    "        #'cpe_manufacturer_name': {'in': 37, 'out': 4},\n",
    "        #'cpe_model_name': {'in': 599, 'out': 16},\n",
    "        #'cpe_type_cd': {'in': 4, 'out': 2}, \n",
    "        #'cpe_model_os_type': {'in': 3, 'out': 2}, \n",
    "        'part_of_day': {'in': 4, 'out': 1},\n",
    "        'url_host': url_embeddings\n",
    "    }\n",
    ")\n",
    "\n",
    "\n",
    "seq_encoder = RnnSeqEncoder(\n",
    "    trx_encoder=TrxEncoder(**trx_encoder_params),\n",
    "    hidden_size=1024,\n",
    "    num_layers=2,\n",
    "    type='gru',\n",
    ")\n",
    "\n",
    "model = CoLESModule(\n",
    "    seq_encoder=seq_encoder,\n",
    "    optimizer_partial=partial(torch.optim.Adam, lr=0.0001),\n",
    "    lr_scheduler_partial=partial(torch.optim.lr_scheduler.StepLR, step_size=10, gamma=0.9),\n",
    "    head = torch.nn.Sequential(torch.nn.Linear(1024, 512), torch.nn.ReLU(), torch.nn.Linear(512, 512), \n",
    "            ptls.nn.Head(use_norm_encoder = True))\n",
    ")\n"
   ]
  },
  {
   "cell_type": "code",
   "execution_count": 39,
   "id": "45bdad93-26bf-4a89-809f-e1ef26e4012f",
   "metadata": {},
   "outputs": [
    {
     "data": {
      "text/plain": [
       "<All keys matched successfully>"
      ]
     },
     "execution_count": 39,
     "metadata": {},
     "output_type": "execute_result"
    }
   ],
   "source": [
    "\n",
    "model.load_state_dict(torch.load(\"coles-emb-lstm.pt\"))"
   ]
  },
  {
   "cell_type": "markdown",
   "id": "8f2a2c03-a0e6-4241-8d56-abb4eb5b1d97",
   "metadata": {},
   "source": [
    "# Finetune"
   ]
  },
  {
   "cell_type": "code",
   "execution_count": 5,
   "id": "7f01ebcc-e64c-445c-a267-7ec430f9c73b",
   "metadata": {},
   "outputs": [
    {
     "name": "stderr",
     "output_type": "stream",
     "text": [
      "100%|██████████| 4/4 [00:12<00:00,  3.20s/it]"
     ]
    },
    {
     "name": "stdout",
     "output_type": "stream",
     "text": [
      "CPU times: user 23 s, sys: 15.5 s, total: 38.5 s\n",
      "Wall time: 37.5 s\n"
     ]
    },
    {
     "name": "stderr",
     "output_type": "stream",
     "text": [
      "\n"
     ]
    }
   ],
   "source": [
    "%%time\n",
    "\n",
    "import tqdm, torch\n",
    "\n",
    "\n",
    "df_trans = pq.read_table('data/trans_filtered_pretrained.parquet').to_pandas()\n",
    "\n",
    "cols = ['url_host', 'request_cnt', 'part_of_day', 'event_time']\n",
    "for col in tqdm.tqdm(cols):\n",
    "    df_trans[col] = df_trans[col].apply(torch.tensor)"
   ]
  },
  {
   "cell_type": "code",
   "execution_count": 6,
   "id": "87d0a838-8096-4815-9595-d419e683c806",
   "metadata": {},
   "outputs": [],
   "source": [
    "df_trans = df_trans.drop('price', axis =1)"
   ]
  },
  {
   "cell_type": "code",
   "execution_count": 7,
   "id": "e16ab816-3775-420c-b533-cbce804d89b1",
   "metadata": {},
   "outputs": [
    {
     "data": {
      "text/plain": [
       "<torch._C.Generator at 0x7fd9ec2638d0>"
      ]
     },
     "execution_count": 7,
     "metadata": {},
     "output_type": "execute_result"
    }
   ],
   "source": [
    "SEED = 42  # todo 0, 1, 2, 3, 4 done \n",
    "torch.manual_seed(SEED)"
   ]
  },
  {
   "cell_type": "code",
   "execution_count": 24,
   "id": "91016991-c757-47fc-9461-ed4983af92a7",
   "metadata": {},
   "outputs": [],
   "source": [
    "from sklearn.model_selection import train_test_split\n",
    "import numpy as np\n",
    "\n",
    "import bisect\n",
    "\n",
    "def age_bucket(x):\n",
    "    return bisect.bisect_left([18,25,35,45,55,65], x)\n",
    "\n",
    "df_public = pq.read_table('data/public_train.pqt').to_pandas().sort_values(by='user_id')\n",
    "\n",
    "# Combined target age_gender\n",
    "df_public['age'] = list(map(age_bucket, df_public['age'] ))\n",
    "df_public = df_public[(df_public['age'] != 'NA') & (df_public['is_male'] != 'NA')]\n",
    "df_public = df_public.dropna()\n",
    "df_public['target'] = df_public['age'].astype(int) + 7 * df_public['is_male'].astype(int)\n",
    "\n",
    "# Merge\n",
    "df_finetune = df_trans.merge(df_public[['user_id', 'target']], on='user_id')\n",
    "\n",
    "train_ft, valid_ft = train_test_split(df_finetune, test_size = 0.3, random_state = SEED)\n",
    "\n",
    "train_ft = train_ft.to_dict(orient='records')\n",
    "valid_ft = valid_ft.to_dict(orient='records')"
   ]
  },
  {
   "cell_type": "code",
   "execution_count": 40,
   "id": "a56ded9f-d427-466c-8d33-54a9f83b1c23",
   "metadata": {},
   "outputs": [],
   "source": [
    "from ptls.data_load.datasets import MemoryMapDataset\n",
    "from ptls.frames.supervised import SeqToTargetDataset\n",
    "from ptls.frames import PtlsDataModule\n",
    "from ptls.data_load.iterable_processing import SeqLenFilter\n",
    "\n",
    "from ptls.data_load.augmentations import AllTimeShuffle, DropoutTrx, RandomSlice\n",
    "from  ptls.data_load.datasets import AugmentationDataset\n",
    "\n",
    "def get_dataset(data, aug=False):\n",
    "    ds = MemoryMapDataset(data=data, i_filters=[SeqLenFilter(max_seq_len=1000),])\n",
    "    if aug:\n",
    "        ds = AugmentationDataset(ds, f_augmentations = [DropoutTrx(trx_dropout=0.01), RandomSlice(30, 100)])\n",
    "    return SeqToTargetDataset(ds, target_col_name='target',)\n",
    "\n",
    "finetune_dm = PtlsDataModule(\n",
    "    train_data=get_dataset(train_ft, aug=True),\n",
    "    valid_data=get_dataset(valid_ft),\n",
    "    train_num_workers=4,\n",
    "    train_batch_size=128,)"
   ]
  },
  {
   "cell_type": "code",
   "execution_count": 41,
   "id": "df848227-4a6e-4096-9125-986b603693f5",
   "metadata": {},
   "outputs": [],
   "source": [
    "from functools import partial\n",
    "import torch\n",
    "import torchmetrics\n",
    "from ptls.frames.supervised import SequenceToTarget\n",
    "from ptls.nn import Head\n",
    "\n",
    "model_finetuned = SequenceToTarget(\n",
    "    seq_encoder=model.seq_encoder,\n",
    "    head=Head(\n",
    "        input_size=model.seq_encoder.embedding_size,\n",
    "        use_batch_norm=True,\n",
    "        objective='classification',\n",
    "        num_classes=14,\n",
    "    ),\n",
    "    loss=torch.nn.NLLLoss(),\n",
    "    metric_list=torchmetrics.Accuracy(compute_on_step=False),\n",
    "    pretrained_lr=0.0001,\n",
    "    optimizer_partial=partial(torch.optim.Adam, lr=0.01, weight_decay=1e-5),\n",
    "    lr_scheduler_partial=partial(torch.optim.lr_scheduler.StepLR, step_size=10, gamma=0.9),\n",
    ")"
   ]
  },
  {
   "cell_type": "code",
   "execution_count": 42,
   "id": "28b852b3-53e3-428e-9a8c-11397bb1ddf9",
   "metadata": {},
   "outputs": [],
   "source": [
    "import os\n",
    "os.environ[\"CUDA_VISIBLE_DEVICES\"]=\"1\""
   ]
  },
  {
   "cell_type": "code",
   "execution_count": 43,
   "id": "9d0448fa-1405-4418-8fb9-e4ff0e53e97e",
   "metadata": {},
   "outputs": [
    {
     "name": "stderr",
     "output_type": "stream",
     "text": [
      "GPU available: True, used: True\n",
      "TPU available: False, using: 0 TPU cores\n",
      "IPU available: False, using: 0 IPUs\n",
      "HPU available: False, using: 0 HPUs\n"
     ]
    }
   ],
   "source": [
    "from pytorch_lightning.callbacks import EarlyStopping\n",
    "\n",
    "early_stopping = EarlyStopping(\n",
    "    monitor=\"valid/Accuracy\",\n",
    "    min_delta=0.001,\n",
    "    patience=5,\n",
    "    mode='max'\n",
    ")\n",
    "\n",
    "trainer_ft = pl.Trainer(\n",
    "    max_epochs=10,\n",
    "    gpus=[0],\n",
    "    enable_progress_bar=False,\n",
    ")"
   ]
  },
  {
   "cell_type": "code",
   "execution_count": 44,
   "id": "6af5db53-47b3-49ff-bf8a-49a3abc958ac",
   "metadata": {},
   "outputs": [
    {
     "name": "stderr",
     "output_type": "stream",
     "text": [
      "LOCAL_RANK: 0 - CUDA_VISIBLE_DEVICES: [1]\n",
      "\n",
      "  | Name          | Type          | Params\n",
      "------------------------------------------------\n",
      "0 | seq_encoder   | RnnSeqEncoder | 28.9 M\n",
      "1 | head          | Head          | 16.4 K\n",
      "2 | loss          | NLLLoss       | 0     \n",
      "3 | train_metrics | ModuleDict    | 0     \n",
      "4 | valid_metrics | ModuleDict    | 0     \n",
      "5 | test_metrics  | ModuleDict    | 0     \n",
      "------------------------------------------------\n",
      "9.8 M     Trainable params\n",
      "19.2 M    Non-trainable params\n",
      "28.9 M    Total params\n",
      "115.754   Total estimated model params size (MB)\n"
     ]
    },
    {
     "name": "stdout",
     "output_type": "stream",
     "text": [
      "logger.version = 33\n",
      "{'loss': tensor(1.0725), 'seq_len': tensor(54.6667), 'y': tensor(5.6667), 'val_loss': tensor(1.8501), 'valid/Accuracy': tensor(0.3385), 'train/Accuracy': tensor(0.3524)}\n"
     ]
    }
   ],
   "source": [
    "print(f'logger.version = {trainer_ft.logger.version}')\n",
    "trainer_ft.fit(model_finetuned, finetune_dm)\n",
    "print(trainer_ft.logged_metrics)"
   ]
  },
  {
   "cell_type": "markdown",
   "id": "3ba14724-6df5-4b97-b7d7-aae8c7c50c11",
   "metadata": {},
   "source": [
    "# Infernece"
   ]
  },
  {
   "cell_type": "code",
   "execution_count": 17,
   "id": "2df76e38-ec88-461c-aa41-572f134eb531",
   "metadata": {},
   "outputs": [
    {
     "name": "stderr",
     "output_type": "stream",
     "text": [
      "1240it [03:59,  5.19it/s]\n",
      "1240it [00:13, 89.13it/s] \n"
     ]
    },
    {
     "name": "stdout",
     "output_type": "stream",
     "text": [
      "CPU times: user 54min 8s, sys: 55.7 s, total: 55min 4s\n",
      "Wall time: 5min 15s\n"
     ]
    }
   ],
   "source": [
    "%%time\n",
    "import tqdm\n",
    "from ptls.data_load.datasets import inference_data_loader\n",
    "import numpy as np\n",
    "\n",
    "def pooling_inference(model, dl, device='cuda:0'):\n",
    "    \n",
    "    model.to(device)\n",
    "    X = []\n",
    "    for batch in tqdm.tqdm(dl):\n",
    "        with torch.no_grad():\n",
    "            x = model.seq_encoder.trx_encoder(batch.to(device)).payload\n",
    "            out_max = torch.max(x, dim=1)[0]\n",
    "            out_min = torch.min(x, dim=1)[0]\n",
    "            out_mean = torch.mean(x, dim=1)\n",
    "            out_std = torch.std(x, dim=1)\n",
    "            features = torch.cat([out_max, out_min, out_mean, out_std], dim=1)      \n",
    "            X += [features]\n",
    "    return X\n",
    "\n",
    "def embed_inference(model, dl, device='cuda:0'):\n",
    "    \n",
    "    model.to(device)\n",
    "    X = []\n",
    "    for batch in tqdm.tqdm(dl):\n",
    "        with torch.no_grad():\n",
    "            features = model.seq_encoder(batch.to(device))\n",
    "            #features = model(batch.to(device))\n",
    "            X += [features]\n",
    "    return X\n",
    "\n",
    "dl = inference_data_loader(valid_ft, num_workers=0, batch_size=64)\n",
    "X_coles = torch.vstack(embed_inference(model_finetuned, dl, )).cpu().numpy()\n",
    "X_pool = torch.vstack(pooling_inference(model_finetuned, dl, )).cpu().numpy()\n",
    "X_embeds = np.concatenate([X_coles, X_pool], axis=1)\n",
    "\n",
    "\n",
    "df_embeds = pd.DataFrame(X_embeds, columns=[f\"embed_{e}\" for e in range(X_embeds.shape[1])])\n",
    "df_embeds['user_id'] = pd.DataFrame(valid_ft)['user_id']\n",
    "df_embeds.to_csv('./data/coles_sup.csv', index=False)"
   ]
  },
  {
   "cell_type": "code",
   "execution_count": 18,
   "id": "2b96984e-8daf-447b-bcb0-b6f18aca3cfb",
   "metadata": {},
   "outputs": [],
   "source": [
    "#df_embeds = pd.DataFrame(np.argmax(X_coles, axis = 1)//7, columns = ['y_pred'])\n",
    "#df_embeds['user_id'] = pd.DataFrame(valid_ft)['user_id']\n",
    "#df_public = pq.read_table('data/public_train.pqt').to_pandas().sort_values(by='user_id')\n",
    "#df = df_embeds.merge(df_public, on = 'user_id')\n",
    "#df = df.loc[df['is_male']!='NA']"
   ]
  },
  {
   "cell_type": "markdown",
   "id": "b34f2f38-af86-417a-904f-4c235e6fa30b",
   "metadata": {},
   "source": [
    "## Downstream"
   ]
  },
  {
   "cell_type": "markdown",
   "id": "0a6f49c2-c642-4cdc-9697-79ac1d0411ca",
   "metadata": {},
   "source": [
    "## Targets"
   ]
  },
  {
   "cell_type": "code",
   "execution_count": 46,
   "id": "249e125e-b4f2-458a-8a83-5a897b667e5f",
   "metadata": {},
   "outputs": [
    {
     "name": "stdout",
     "output_type": "stream",
     "text": [
      "CPU times: user 10.9 s, sys: 562 ms, total: 11.5 s\n",
      "Wall time: 11.5 s\n"
     ]
    }
   ],
   "source": [
    "%%time\n",
    "\n",
    "import bisect\n",
    "import numpy as np\n",
    "\n",
    "df_embeds = pd.read_csv('./data/coles_sup.csv')\n",
    "df_public = pq.read_table('data/public_train.pqt').to_pandas().sort_values(by='user_id')\n",
    "\n",
    "def age_bucket(x):\n",
    "    return bisect.bisect_left([18,25,35,45,55,65], x)\n",
    "\n",
    "y_gender = np.array(df_public['is_male'].loc[df_public[\"user_id\"].isin(df_embeds[\"user_id\"])])\n",
    "\n",
    "X = df_public\n",
    "X = X.merge(df_embeds, on=\"user_id\", how='inner')\n",
    "del X['user_id']"
   ]
  },
  {
   "cell_type": "markdown",
   "id": "e1256856-3585-4b1d-ab90-68d7f2e74847",
   "metadata": {},
   "source": [
    "## Gender"
   ]
  },
  {
   "cell_type": "code",
   "execution_count": 20,
   "id": "f91510b6-e068-4b06-a703-ece8a251280e",
   "metadata": {
    "tags": []
   },
   "outputs": [
    {
     "name": "stdout",
     "output_type": "stream",
     "text": [
      "Learning rate set to 0.090934\n",
      "0:\tlearn: 0.6524280\ttest: 0.6516542\tbest: 0.6516542 (0)\ttotal: 176ms\tremaining: 2m 55s\n",
      "100:\tlearn: 0.4270304\ttest: 0.4271746\tbest: 0.4271746 (100)\ttotal: 16.7s\tremaining: 2m 28s\n",
      "200:\tlearn: 0.4052526\ttest: 0.4237997\tbest: 0.4237997 (200)\ttotal: 33.3s\tremaining: 2m 12s\n",
      "300:\tlearn: 0.3854017\ttest: 0.4217245\tbest: 0.4217245 (300)\ttotal: 49.7s\tremaining: 1m 55s\n",
      "400:\tlearn: 0.3672467\ttest: 0.4208100\tbest: 0.4208100 (400)\ttotal: 1m 6s\tremaining: 1m 39s\n",
      "500:\tlearn: 0.3508429\ttest: 0.4206350\tbest: 0.4206350 (500)\ttotal: 1m 23s\tremaining: 1m 23s\n",
      "600:\tlearn: 0.3351512\ttest: 0.4204208\tbest: 0.4204208 (600)\ttotal: 1m 40s\tremaining: 1m 6s\n",
      "700:\tlearn: 0.3205854\ttest: 0.4204629\tbest: 0.4204208 (600)\ttotal: 1m 58s\tremaining: 50.7s\n",
      "800:\tlearn: 0.3065195\ttest: 0.4211557\tbest: 0.4204208 (600)\ttotal: 2m 16s\tremaining: 34s\n",
      "900:\tlearn: 0.2936782\ttest: 0.4220627\tbest: 0.4204208 (600)\ttotal: 2m 35s\tremaining: 17.1s\n",
      "999:\tlearn: 0.2812450\ttest: 0.4222082\tbest: 0.4204208 (600)\ttotal: 2m 54s\tremaining: 0us\n",
      "\n",
      "bestTest = 0.4204208238\n",
      "bestIteration = 600\n",
      "\n",
      "Shrink model to first 601 iterations.\n"
     ]
    },
    {
     "data": {
      "text/plain": [
       "<catboost.core.CatBoostClassifier at 0x7fda91341a90>"
      ]
     },
     "execution_count": 20,
     "metadata": {},
     "output_type": "execute_result"
    }
   ],
   "source": [
    "# %%time\n",
    "\n",
    "from catboost import CatBoostClassifier, metrics\n",
    "from sklearn.model_selection import train_test_split\n",
    "from sklearn.metrics import roc_auc_score\n",
    "not_na_gender = (y_gender != 'NA') & (y_gender != None)\n",
    "x_train, x_test_gender, y_train, y_test_gender = train_test_split(X.loc[X['is_male']!='NA'].drop('is_male', axis = 1), X['is_male'].loc[X['is_male']!='NA'], test_size = 0.1, random_state = 42)\n",
    "\n",
    "clf_gender = CatBoostClassifier(\n",
    "    iterations=1000,\n",
    "    custom_metric=[metrics.AUC()],\n",
    "    use_best_model=True,\n",
    "    random_seed=42)\n",
    "clf_gender.fit(x_train, y_train, metric_period=100, eval_set=(x_test_gender, y_test_gender))"
   ]
  },
  {
   "cell_type": "code",
   "execution_count": 21,
   "id": "c79f183d-f27b-4820-b15c-03b29be96436",
   "metadata": {},
   "outputs": [
    {
     "name": "stdout",
     "output_type": "stream",
     "text": [
      "GINI по полу 0.776\n"
     ]
    }
   ],
   "source": [
    "print(f'GINI по полу {2 * roc_auc_score(y_test_gender, clf_gender.predict_proba(x_test_gender)[:,1]) - 1:2.3f}')"
   ]
  },
  {
   "cell_type": "code",
   "execution_count": 47,
   "id": "a5fa9e7b-8ea8-4e0c-bbcd-4c2889c7f2b2",
   "metadata": {},
   "outputs": [],
   "source": [
    "del X['is_male']"
   ]
  },
  {
   "cell_type": "code",
   "execution_count": 50,
   "id": "a80a2e64-08c1-45e0-b4fb-9d2d3f7887ce",
   "metadata": {},
   "outputs": [
    {
     "data": {
      "text/plain": [
       "79298"
      ]
     },
     "execution_count": 50,
     "metadata": {},
     "output_type": "execute_result"
    }
   ],
   "source": [
    "len(X)"
   ]
  },
  {
   "cell_type": "markdown",
   "id": "b6f90007-39ca-413f-bb25-4fb6c4567417",
   "metadata": {},
   "source": [
    "# Age"
   ]
  },
  {
   "cell_type": "code",
   "execution_count": 58,
   "id": "07567ab8-edfa-4e6e-8403-172898ecd49a",
   "metadata": {},
   "outputs": [],
   "source": [
    "y_age = X['age']\n",
    "y_age = np.array(list(map(age_bucket, y_age)))"
   ]
  },
  {
   "cell_type": "code",
   "execution_count": 61,
   "id": "86cd6e05-f89a-422e-a42d-d8f59f0daba0",
   "metadata": {},
   "outputs": [],
   "source": [
    "not_na_age = ~np.isnan(y_age)"
   ]
  },
  {
   "cell_type": "code",
   "execution_count": 66,
   "id": "dc212204-4d51-4165-ad53-1d38aea1f549",
   "metadata": {},
   "outputs": [
    {
     "data": {
      "text/plain": [
       "79298"
      ]
     },
     "execution_count": 66,
     "metadata": {},
     "output_type": "execute_result"
    }
   ],
   "source": [
    "np.sum(not_na_age)"
   ]
  },
  {
   "cell_type": "code",
   "execution_count": 65,
   "id": "1cd87ebc-47f1-4909-b530-9b2ef4827666",
   "metadata": {},
   "outputs": [
    {
     "data": {
      "text/html": [
       "<div>\n",
       "<style scoped>\n",
       "    .dataframe tbody tr th:only-of-type {\n",
       "        vertical-align: middle;\n",
       "    }\n",
       "\n",
       "    .dataframe tbody tr th {\n",
       "        vertical-align: top;\n",
       "    }\n",
       "\n",
       "    .dataframe thead th {\n",
       "        text-align: right;\n",
       "    }\n",
       "</style>\n",
       "<table border=\"1\" class=\"dataframe\">\n",
       "  <thead>\n",
       "    <tr style=\"text-align: right;\">\n",
       "      <th></th>\n",
       "      <th>age</th>\n",
       "      <th>embed_0</th>\n",
       "      <th>embed_1</th>\n",
       "      <th>embed_2</th>\n",
       "      <th>embed_3</th>\n",
       "      <th>embed_4</th>\n",
       "      <th>embed_5</th>\n",
       "      <th>embed_6</th>\n",
       "      <th>embed_7</th>\n",
       "      <th>embed_8</th>\n",
       "      <th>...</th>\n",
       "      <th>embed_1406</th>\n",
       "      <th>embed_1407</th>\n",
       "      <th>embed_1408</th>\n",
       "      <th>embed_1409</th>\n",
       "      <th>embed_1410</th>\n",
       "      <th>embed_1411</th>\n",
       "      <th>embed_1412</th>\n",
       "      <th>embed_1413</th>\n",
       "      <th>embed_1414</th>\n",
       "      <th>embed_1415</th>\n",
       "    </tr>\n",
       "  </thead>\n",
       "  <tbody>\n",
       "    <tr>\n",
       "      <th>0</th>\n",
       "      <td>28.0</td>\n",
       "      <td>-0.350410</td>\n",
       "      <td>0.632318</td>\n",
       "      <td>-0.091818</td>\n",
       "      <td>-0.139895</td>\n",
       "      <td>-0.364928</td>\n",
       "      <td>-0.056713</td>\n",
       "      <td>0.316604</td>\n",
       "      <td>0.152586</td>\n",
       "      <td>0.361785</td>\n",
       "      <td>...</td>\n",
       "      <td>0.132889</td>\n",
       "      <td>0.258747</td>\n",
       "      <td>0.114576</td>\n",
       "      <td>0.168389</td>\n",
       "      <td>0.973048</td>\n",
       "      <td>0.266641</td>\n",
       "      <td>0.481007</td>\n",
       "      <td>0.148171</td>\n",
       "      <td>0.135358</td>\n",
       "      <td>0.377541</td>\n",
       "    </tr>\n",
       "    <tr>\n",
       "      <th>1</th>\n",
       "      <td>26.0</td>\n",
       "      <td>-0.618453</td>\n",
       "      <td>0.041251</td>\n",
       "      <td>-0.125465</td>\n",
       "      <td>0.288959</td>\n",
       "      <td>-0.376473</td>\n",
       "      <td>0.819247</td>\n",
       "      <td>0.747219</td>\n",
       "      <td>0.356705</td>\n",
       "      <td>0.318829</td>\n",
       "      <td>...</td>\n",
       "      <td>0.131841</td>\n",
       "      <td>0.349963</td>\n",
       "      <td>0.159134</td>\n",
       "      <td>0.231037</td>\n",
       "      <td>1.422003</td>\n",
       "      <td>0.343415</td>\n",
       "      <td>0.698219</td>\n",
       "      <td>0.180706</td>\n",
       "      <td>0.130586</td>\n",
       "      <td>0.389599</td>\n",
       "    </tr>\n",
       "    <tr>\n",
       "      <th>2</th>\n",
       "      <td>64.0</td>\n",
       "      <td>-0.550785</td>\n",
       "      <td>-0.130076</td>\n",
       "      <td>-0.009930</td>\n",
       "      <td>-0.172358</td>\n",
       "      <td>-0.431696</td>\n",
       "      <td>0.619458</td>\n",
       "      <td>0.129012</td>\n",
       "      <td>0.113982</td>\n",
       "      <td>0.499727</td>\n",
       "      <td>...</td>\n",
       "      <td>0.066438</td>\n",
       "      <td>0.176206</td>\n",
       "      <td>0.074067</td>\n",
       "      <td>0.111473</td>\n",
       "      <td>0.762464</td>\n",
       "      <td>0.190660</td>\n",
       "      <td>0.376643</td>\n",
       "      <td>0.069524</td>\n",
       "      <td>0.060303</td>\n",
       "      <td>0.249724</td>\n",
       "    </tr>\n",
       "    <tr>\n",
       "      <th>3</th>\n",
       "      <td>35.0</td>\n",
       "      <td>0.993353</td>\n",
       "      <td>-0.244377</td>\n",
       "      <td>-0.402240</td>\n",
       "      <td>-0.359734</td>\n",
       "      <td>-0.445476</td>\n",
       "      <td>0.855482</td>\n",
       "      <td>0.334890</td>\n",
       "      <td>0.401199</td>\n",
       "      <td>0.487183</td>\n",
       "      <td>...</td>\n",
       "      <td>0.274220</td>\n",
       "      <td>0.406721</td>\n",
       "      <td>0.254292</td>\n",
       "      <td>0.352025</td>\n",
       "      <td>1.582506</td>\n",
       "      <td>0.513740</td>\n",
       "      <td>0.849216</td>\n",
       "      <td>0.441074</td>\n",
       "      <td>0.246063</td>\n",
       "      <td>0.904952</td>\n",
       "    </tr>\n",
       "    <tr>\n",
       "      <th>4</th>\n",
       "      <td>53.0</td>\n",
       "      <td>-0.298454</td>\n",
       "      <td>0.923003</td>\n",
       "      <td>-0.091783</td>\n",
       "      <td>0.599111</td>\n",
       "      <td>-0.278931</td>\n",
       "      <td>-0.022032</td>\n",
       "      <td>0.225055</td>\n",
       "      <td>0.144129</td>\n",
       "      <td>-0.005188</td>\n",
       "      <td>...</td>\n",
       "      <td>0.298794</td>\n",
       "      <td>0.353357</td>\n",
       "      <td>0.268092</td>\n",
       "      <td>0.302239</td>\n",
       "      <td>1.416814</td>\n",
       "      <td>0.500933</td>\n",
       "      <td>0.744435</td>\n",
       "      <td>0.320501</td>\n",
       "      <td>0.268699</td>\n",
       "      <td>0.950382</td>\n",
       "    </tr>\n",
       "    <tr>\n",
       "      <th>...</th>\n",
       "      <td>...</td>\n",
       "      <td>...</td>\n",
       "      <td>...</td>\n",
       "      <td>...</td>\n",
       "      <td>...</td>\n",
       "      <td>...</td>\n",
       "      <td>...</td>\n",
       "      <td>...</td>\n",
       "      <td>...</td>\n",
       "      <td>...</td>\n",
       "      <td>...</td>\n",
       "      <td>...</td>\n",
       "      <td>...</td>\n",
       "      <td>...</td>\n",
       "      <td>...</td>\n",
       "      <td>...</td>\n",
       "      <td>...</td>\n",
       "      <td>...</td>\n",
       "      <td>...</td>\n",
       "      <td>...</td>\n",
       "      <td>...</td>\n",
       "    </tr>\n",
       "    <tr>\n",
       "      <th>79293</th>\n",
       "      <td>51.0</td>\n",
       "      <td>0.061581</td>\n",
       "      <td>-0.111805</td>\n",
       "      <td>-0.095579</td>\n",
       "      <td>-0.013955</td>\n",
       "      <td>-0.019694</td>\n",
       "      <td>0.020475</td>\n",
       "      <td>0.086698</td>\n",
       "      <td>-0.010747</td>\n",
       "      <td>0.038798</td>\n",
       "      <td>...</td>\n",
       "      <td>0.001480</td>\n",
       "      <td>0.009398</td>\n",
       "      <td>0.004048</td>\n",
       "      <td>0.006489</td>\n",
       "      <td>0.044710</td>\n",
       "      <td>0.011708</td>\n",
       "      <td>0.021264</td>\n",
       "      <td>0.004362</td>\n",
       "      <td>0.001059</td>\n",
       "      <td>0.013196</td>\n",
       "    </tr>\n",
       "    <tr>\n",
       "      <th>79294</th>\n",
       "      <td>43.0</td>\n",
       "      <td>0.061375</td>\n",
       "      <td>-0.051445</td>\n",
       "      <td>-0.095874</td>\n",
       "      <td>-0.011291</td>\n",
       "      <td>-0.026515</td>\n",
       "      <td>0.014542</td>\n",
       "      <td>0.086127</td>\n",
       "      <td>-0.010796</td>\n",
       "      <td>0.050994</td>\n",
       "      <td>...</td>\n",
       "      <td>0.002598</td>\n",
       "      <td>0.013941</td>\n",
       "      <td>0.002766</td>\n",
       "      <td>0.005044</td>\n",
       "      <td>0.048268</td>\n",
       "      <td>0.007690</td>\n",
       "      <td>0.027109</td>\n",
       "      <td>0.003564</td>\n",
       "      <td>0.001958</td>\n",
       "      <td>0.012952</td>\n",
       "    </tr>\n",
       "    <tr>\n",
       "      <th>79295</th>\n",
       "      <td>46.0</td>\n",
       "      <td>0.056445</td>\n",
       "      <td>-0.121738</td>\n",
       "      <td>-0.096878</td>\n",
       "      <td>-0.017490</td>\n",
       "      <td>-0.016458</td>\n",
       "      <td>0.016179</td>\n",
       "      <td>0.086451</td>\n",
       "      <td>-0.010834</td>\n",
       "      <td>-0.004027</td>\n",
       "      <td>...</td>\n",
       "      <td>0.006083</td>\n",
       "      <td>0.021648</td>\n",
       "      <td>0.006546</td>\n",
       "      <td>0.009354</td>\n",
       "      <td>0.085983</td>\n",
       "      <td>0.016298</td>\n",
       "      <td>0.042680</td>\n",
       "      <td>0.011954</td>\n",
       "      <td>0.005967</td>\n",
       "      <td>0.030698</td>\n",
       "    </tr>\n",
       "    <tr>\n",
       "      <th>79296</th>\n",
       "      <td>39.0</td>\n",
       "      <td>0.062650</td>\n",
       "      <td>-0.122971</td>\n",
       "      <td>-0.095426</td>\n",
       "      <td>-0.012222</td>\n",
       "      <td>-0.045224</td>\n",
       "      <td>-0.007861</td>\n",
       "      <td>0.086063</td>\n",
       "      <td>-0.010403</td>\n",
       "      <td>0.081159</td>\n",
       "      <td>...</td>\n",
       "      <td>0.003106</td>\n",
       "      <td>0.010327</td>\n",
       "      <td>0.004108</td>\n",
       "      <td>0.006131</td>\n",
       "      <td>0.042917</td>\n",
       "      <td>0.011026</td>\n",
       "      <td>0.019267</td>\n",
       "      <td>0.003577</td>\n",
       "      <td>0.000124</td>\n",
       "      <td>0.011799</td>\n",
       "    </tr>\n",
       "    <tr>\n",
       "      <th>79297</th>\n",
       "      <td>62.0</td>\n",
       "      <td>0.060322</td>\n",
       "      <td>-0.108906</td>\n",
       "      <td>-0.096399</td>\n",
       "      <td>-0.013710</td>\n",
       "      <td>-0.026296</td>\n",
       "      <td>0.006918</td>\n",
       "      <td>0.087036</td>\n",
       "      <td>-0.010774</td>\n",
       "      <td>0.057090</td>\n",
       "      <td>...</td>\n",
       "      <td>0.002320</td>\n",
       "      <td>0.008750</td>\n",
       "      <td>0.004788</td>\n",
       "      <td>0.005897</td>\n",
       "      <td>0.041311</td>\n",
       "      <td>0.010485</td>\n",
       "      <td>0.020406</td>\n",
       "      <td>0.004955</td>\n",
       "      <td>0.000740</td>\n",
       "      <td>0.009877</td>\n",
       "    </tr>\n",
       "  </tbody>\n",
       "</table>\n",
       "<p>79298 rows × 1417 columns</p>\n",
       "</div>"
      ],
      "text/plain": [
       "        age   embed_0   embed_1   embed_2   embed_3   embed_4   embed_5  \\\n",
       "0      28.0 -0.350410  0.632318 -0.091818 -0.139895 -0.364928 -0.056713   \n",
       "1      26.0 -0.618453  0.041251 -0.125465  0.288959 -0.376473  0.819247   \n",
       "2      64.0 -0.550785 -0.130076 -0.009930 -0.172358 -0.431696  0.619458   \n",
       "3      35.0  0.993353 -0.244377 -0.402240 -0.359734 -0.445476  0.855482   \n",
       "4      53.0 -0.298454  0.923003 -0.091783  0.599111 -0.278931 -0.022032   \n",
       "...     ...       ...       ...       ...       ...       ...       ...   \n",
       "79293  51.0  0.061581 -0.111805 -0.095579 -0.013955 -0.019694  0.020475   \n",
       "79294  43.0  0.061375 -0.051445 -0.095874 -0.011291 -0.026515  0.014542   \n",
       "79295  46.0  0.056445 -0.121738 -0.096878 -0.017490 -0.016458  0.016179   \n",
       "79296  39.0  0.062650 -0.122971 -0.095426 -0.012222 -0.045224 -0.007861   \n",
       "79297  62.0  0.060322 -0.108906 -0.096399 -0.013710 -0.026296  0.006918   \n",
       "\n",
       "        embed_6   embed_7   embed_8  ...  embed_1406  embed_1407  embed_1408  \\\n",
       "0      0.316604  0.152586  0.361785  ...    0.132889    0.258747    0.114576   \n",
       "1      0.747219  0.356705  0.318829  ...    0.131841    0.349963    0.159134   \n",
       "2      0.129012  0.113982  0.499727  ...    0.066438    0.176206    0.074067   \n",
       "3      0.334890  0.401199  0.487183  ...    0.274220    0.406721    0.254292   \n",
       "4      0.225055  0.144129 -0.005188  ...    0.298794    0.353357    0.268092   \n",
       "...         ...       ...       ...  ...         ...         ...         ...   \n",
       "79293  0.086698 -0.010747  0.038798  ...    0.001480    0.009398    0.004048   \n",
       "79294  0.086127 -0.010796  0.050994  ...    0.002598    0.013941    0.002766   \n",
       "79295  0.086451 -0.010834 -0.004027  ...    0.006083    0.021648    0.006546   \n",
       "79296  0.086063 -0.010403  0.081159  ...    0.003106    0.010327    0.004108   \n",
       "79297  0.087036 -0.010774  0.057090  ...    0.002320    0.008750    0.004788   \n",
       "\n",
       "       embed_1409  embed_1410  embed_1411  embed_1412  embed_1413  embed_1414  \\\n",
       "0        0.168389    0.973048    0.266641    0.481007    0.148171    0.135358   \n",
       "1        0.231037    1.422003    0.343415    0.698219    0.180706    0.130586   \n",
       "2        0.111473    0.762464    0.190660    0.376643    0.069524    0.060303   \n",
       "3        0.352025    1.582506    0.513740    0.849216    0.441074    0.246063   \n",
       "4        0.302239    1.416814    0.500933    0.744435    0.320501    0.268699   \n",
       "...           ...         ...         ...         ...         ...         ...   \n",
       "79293    0.006489    0.044710    0.011708    0.021264    0.004362    0.001059   \n",
       "79294    0.005044    0.048268    0.007690    0.027109    0.003564    0.001958   \n",
       "79295    0.009354    0.085983    0.016298    0.042680    0.011954    0.005967   \n",
       "79296    0.006131    0.042917    0.011026    0.019267    0.003577    0.000124   \n",
       "79297    0.005897    0.041311    0.010485    0.020406    0.004955    0.000740   \n",
       "\n",
       "       embed_1415  \n",
       "0        0.377541  \n",
       "1        0.389599  \n",
       "2        0.249724  \n",
       "3        0.904952  \n",
       "4        0.950382  \n",
       "...           ...  \n",
       "79293    0.013196  \n",
       "79294    0.012952  \n",
       "79295    0.030698  \n",
       "79296    0.011799  \n",
       "79297    0.009877  \n",
       "\n",
       "[79298 rows x 1417 columns]"
      ]
     },
     "execution_count": 65,
     "metadata": {},
     "output_type": "execute_result"
    }
   ],
   "source": [
    "X"
   ]
  },
  {
   "cell_type": "code",
   "execution_count": 68,
   "id": "d64c67ef-9822-4dca-8aac-5d0b5a8b601a",
   "metadata": {},
   "outputs": [],
   "source": [
    "def age_bucket(x):\n",
    "    return bisect.bisect_left([18,25,35,45,55,65], x)\n",
    "\n",
    "y_age = X['age'].loc[not_na_age]\n",
    "y_age = np.array(list(map(age_bucket, y_age)))"
   ]
  },
  {
   "cell_type": "code",
   "execution_count": null,
   "id": "c6999562-68e4-4ad6-948c-94888b5a8e90",
   "metadata": {},
   "outputs": [],
   "source": [
    "x_test_age"
   ]
  },
  {
   "cell_type": "code",
   "execution_count": 70,
   "id": "37c4697a-1ad9-4b11-904a-5d2cae5c0945",
   "metadata": {
    "tags": []
   },
   "outputs": [
    {
     "name": "stdout",
     "output_type": "stream",
     "text": [
      "Learning rate set to 0.117597\n",
      "0:\tlearn: 1.8284115\ttest: 1.8296475\tbest: 1.8296475 (0)\ttotal: 486ms\tremaining: 8m 5s\n",
      "100:\tlearn: 1.2161826\ttest: 1.2660904\tbest: 1.2660904 (100)\ttotal: 38.7s\tremaining: 5m 44s\n",
      "200:\tlearn: 1.1622871\ttest: 1.2541235\tbest: 1.2541235 (200)\ttotal: 1m 15s\tremaining: 5m\n",
      "300:\tlearn: 1.1178347\ttest: 1.2518849\tbest: 1.2518849 (300)\ttotal: 1m 52s\tremaining: 4m 21s\n",
      "400:\tlearn: 1.0804902\ttest: 1.2501002\tbest: 1.2501002 (400)\ttotal: 2m 29s\tremaining: 3m 43s\n",
      "500:\tlearn: 1.0450870\ttest: 1.2504674\tbest: 1.2501002 (400)\ttotal: 3m 6s\tremaining: 3m 5s\n",
      "600:\tlearn: 1.0123656\ttest: 1.2502112\tbest: 1.2501002 (400)\ttotal: 3m 43s\tremaining: 2m 28s\n",
      "700:\tlearn: 0.9812439\ttest: 1.2505977\tbest: 1.2501002 (400)\ttotal: 4m 19s\tremaining: 1m 50s\n",
      "800:\tlearn: 0.9497614\ttest: 1.2525041\tbest: 1.2501002 (400)\ttotal: 4m 56s\tremaining: 1m 13s\n",
      "900:\tlearn: 0.9209456\ttest: 1.2520867\tbest: 1.2501002 (400)\ttotal: 5m 33s\tremaining: 36.7s\n",
      "999:\tlearn: 0.8949287\ttest: 1.2533028\tbest: 1.2501002 (400)\ttotal: 6m 9s\tremaining: 0us\n",
      "\n",
      "bestTest = 1.25010021\n",
      "bestIteration = 400\n",
      "\n",
      "Shrink model to first 401 iterations.\n",
      "CPU times: user 6h 29min 47s, sys: 5min 44s, total: 6h 35min 31s\n",
      "Wall time: 6min 11s\n"
     ]
    },
    {
     "data": {
      "text/plain": [
       "<catboost.core.CatBoostClassifier at 0x7fda28af8d90>"
      ]
     },
     "execution_count": 70,
     "metadata": {},
     "output_type": "execute_result"
    }
   ],
   "source": [
    "%%time\n",
    "\n",
    "from sklearn.metrics import classification_report\n",
    "\n",
    "x_train, x_test_age, y_train, y_test_age = train_test_split(X.loc[not_na_age].drop('age', axis = 1), y_age, test_size = 0.1, random_state = 42)\n",
    "\n",
    "clf_age = CatBoostClassifier(iterations=1000,\n",
    "    custom_metric=[metrics.Accuracy()],\n",
    "    use_best_model=True,\n",
    "    random_seed=42)\n",
    "clf_age.fit(x_train, y_train, metric_period=100, eval_set=(x_test_age, y_test_age))"
   ]
  },
  {
   "cell_type": "code",
   "execution_count": 71,
   "id": "683c058e-8881-48a3-8f5a-ae1851ed3f8c",
   "metadata": {},
   "outputs": [
    {
     "name": "stdout",
     "output_type": "stream",
     "text": [
      "              precision    recall  f1-score   support\n",
      "\n",
      "         <18      0.000     0.000     0.000        25\n",
      "       18-25      0.553     0.377     0.448       953\n",
      "       25-34      0.531     0.623     0.573      2641\n",
      "       35-44      0.416     0.546     0.472      2183\n",
      "       45-54      0.410     0.282     0.334      1277\n",
      "       55-65      0.398     0.256     0.311       673\n",
      "         65+      0.800     0.022     0.044       178\n",
      "\n",
      "    accuracy                          0.471      7930\n",
      "   macro avg      0.444     0.301     0.312      7930\n",
      "weighted avg      0.475     0.471     0.456      7930\n",
      "\n"
     ]
    },
    {
     "name": "stderr",
     "output_type": "stream",
     "text": [
      "/home/jovyan/.local/share/virtualenvs/ptls-experiments-VBYVncXQ/lib/python3.8/site-packages/sklearn/metrics/_classification.py:1334: UndefinedMetricWarning: Precision and F-score are ill-defined and being set to 0.0 in labels with no predicted samples. Use `zero_division` parameter to control this behavior.\n",
      "  _warn_prf(average, modifier, msg_start, len(result))\n",
      "/home/jovyan/.local/share/virtualenvs/ptls-experiments-VBYVncXQ/lib/python3.8/site-packages/sklearn/metrics/_classification.py:1334: UndefinedMetricWarning: Precision and F-score are ill-defined and being set to 0.0 in labels with no predicted samples. Use `zero_division` parameter to control this behavior.\n",
      "  _warn_prf(average, modifier, msg_start, len(result))\n",
      "/home/jovyan/.local/share/virtualenvs/ptls-experiments-VBYVncXQ/lib/python3.8/site-packages/sklearn/metrics/_classification.py:1334: UndefinedMetricWarning: Precision and F-score are ill-defined and being set to 0.0 in labels with no predicted samples. Use `zero_division` parameter to control this behavior.\n",
      "  _warn_prf(average, modifier, msg_start, len(result))\n"
     ]
    }
   ],
   "source": [
    "print(classification_report(y_test_age, clf_age.predict(x_test_age), \\\n",
    "                            target_names = ['<18', '18-25','25-34', '35-44', '45-54', '55-65', '65+'], digits = 3))"
   ]
  },
  {
   "cell_type": "code",
   "execution_count": 22,
   "id": "49f4076d-4cfa-4a80-86c4-a6eae875c3db",
   "metadata": {},
   "outputs": [
    {
     "data": {
      "text/plain": [
       "1.741"
      ]
     },
     "execution_count": 22,
     "metadata": {},
     "output_type": "execute_result"
    }
   ],
   "source": [
    "0.781 + 2*0.48"
   ]
  },
  {
   "cell_type": "code",
   "execution_count": null,
   "id": "13705407-2835-4678-a91f-98de0973b9c8",
   "metadata": {},
   "outputs": [],
   "source": []
  }
 ],
 "metadata": {
  "kernelspec": {
   "display_name": "ptls-experiments",
   "language": "python",
   "name": "ptls-experiments"
  },
  "language_info": {
   "codemirror_mode": {
    "name": "ipython",
    "version": 3
   },
   "file_extension": ".py",
   "mimetype": "text/x-python",
   "name": "python",
   "nbconvert_exporter": "python",
   "pygments_lexer": "ipython3",
   "version": "3.8.17"
  }
 },
 "nbformat": 4,
 "nbformat_minor": 5
}
